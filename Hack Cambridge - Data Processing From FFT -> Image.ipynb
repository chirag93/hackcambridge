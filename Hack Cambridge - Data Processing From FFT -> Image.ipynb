{
 "cells": [
  {
   "cell_type": "code",
   "execution_count": 2,
   "metadata": {
    "collapsed": true
   },
   "outputs": [],
   "source": [
    "import sys\n",
    "import os\n",
    "sys.path.append('/Users/adam2392/Documents/tvb/')\n",
    "# sys.path.append('/Users/adam2392/Documents/tvb/_tvbdata/')\n",
    "# sys.path.append('/Users/adam2392/Documents/tvb/_tvblibrary/')\n",
    "# from tvb.simulator.lab import *\n",
    "import numpy as np\n",
    "import pandas as pd\n",
    "import scipy\n",
    "from sklearn import cluster\n",
    "import tvbsim\n",
    "\n",
    "import processing.util as util\n",
    "import processing.preprocessfft as preprocess\n",
    "\n",
    "from natsort import natsorted\n",
    "\n",
    "import tvbsim.util\n",
    "\n",
    "%load_ext autoreload\n",
    "%autoreload 2\n",
    "\n",
    "import ntpath\n",
    "def path_leaf(path):\n",
    "    head, tail = ntpath.split(path)\n",
    "    return tail or ntpath.basename(head)\n",
    "\n",
    "def _gettimepoints(numsignals, numwinsamps, numstepsamps):\n",
    "    # create array of indices of window start times\n",
    "    timestarts = np.arange(0, numsignals-numwinsamps+1, numstepsamps)\n",
    "    # create array of indices of window end times\n",
    "    timeends = np.arange(numwinsamps-1, numsignals, numstepsamps)\n",
    "    # create the timepoints array for entire data array\n",
    "    timepoints = np.append(timestarts.reshape(len(timestarts), 1), timeends.reshape(len(timestarts), 1), axis=1)\n",
    "    return timepoints"
   ]
  },
  {
   "cell_type": "markdown",
   "metadata": {},
   "source": [
    "# 1. Define Where Data Is\n",
    "\n",
    "We need to get the data that is stored as FFT data.\n",
    "\n",
    "We need to transform the data from \n",
    "- rawdataset is [numchans, numtimepoints]\n",
    "- freqdata is the rawdata preprocessed into frequency data\n",
    "[numchannels, numfrequencybands, numtimewindows]\n",
    "- imagedata is freqdata reformatted into images\n",
    "[width, height, numfreqbands, numtimewindows]"
   ]
  },
  {
   "cell_type": "code",
   "execution_count": 3,
   "metadata": {
    "scrolled": true
   },
   "outputs": [
    {
     "name": "stdout",
     "output_type": "stream",
     "text": [
      "['/Volumes/ADAM LI/pydata/output/frequencyanalysis/varydistance/id001_ac_sim_nez1_npz1_dist4_fftmodel.npz', '/Volumes/ADAM LI/pydata/output/frequencyanalysis/varydistance/id001_ac_sim_nez1_npz1_dist3_fftmodel.npz', '/Volumes/ADAM LI/pydata/output/frequencyanalysis/varydistance/id001_ac_sim_nez1_npz1_dist2_fftmodel.npz', '/Volumes/ADAM LI/pydata/output/frequencyanalysis/varydistance/id001_ac_sim_nez1_npz1_dist5_fftmodel.npz', '/Volumes/ADAM LI/pydata/output/frequencyanalysis/varydistance/id002_cj_sim_nez1_npz1_dist7_fftmodel.npz', '/Volumes/ADAM LI/pydata/output/frequencyanalysis/varydistance/id014_rb_sim_nez1_npz1_dist1_fftmodel.npz', '/Volumes/ADAM LI/pydata/output/frequencyanalysis/varydistance/id014_rb_sim_nez1_npz1_dist6_fftmodel.npz', '/Volumes/ADAM LI/pydata/output/frequencyanalysis/varydistance/id002_cj_sim_nez1_npz1_dist6_fftmodel.npz', '/Volumes/ADAM LI/pydata/output/frequencyanalysis/varydistance/id002_cj_sim_nez1_npz1_dist1_fftmodel.npz', '/Volumes/ADAM LI/pydata/output/frequencyanalysis/varydistance/id014_rb_sim_nez1_npz1_dist7_fftmodel.npz', '/Volumes/ADAM LI/pydata/output/frequencyanalysis/varydistance/id002_cj_sim_nez1_npz1_dist3_fftmodel.npz', '/Volumes/ADAM LI/pydata/output/frequencyanalysis/varydistance/id002_cj_sim_nez1_npz1_dist4_fftmodel.npz', '/Volumes/ADAM LI/pydata/output/frequencyanalysis/varydistance/id014_rb_sim_nez1_npz1_dist2_fftmodel.npz', '/Volumes/ADAM LI/pydata/output/frequencyanalysis/varydistance/id014_rb_sim_nez1_npz1_dist5_fftmodel.npz', '/Volumes/ADAM LI/pydata/output/frequencyanalysis/varydistance/id002_cj_sim_nez1_npz1_dist5_fftmodel.npz', '/Volumes/ADAM LI/pydata/output/frequencyanalysis/varydistance/id002_cj_sim_nez1_npz1_dist2_fftmodel.npz', '/Volumes/ADAM LI/pydata/output/frequencyanalysis/varydistance/id014_rb_sim_nez1_npz1_dist4_fftmodel.npz', '/Volumes/ADAM LI/pydata/output/frequencyanalysis/varydistance/id014_rb_sim_nez1_npz1_dist3_fftmodel.npz', '/Volumes/ADAM LI/pydata/output/frequencyanalysis/varydistance/id014_rb_sim_nez1_npz1_dist9_fftmodel.npz', '/Volumes/ADAM LI/pydata/output/frequencyanalysis/varydistance/id002_cj_sim_nez1_npz1_dist8_fftmodel.npz', '/Volumes/ADAM LI/pydata/output/frequencyanalysis/varydistance/id001_ac_sim_nez1_npz1_dist7_fftmodel.npz', '/Volumes/ADAM LI/pydata/output/frequencyanalysis/varydistance/id014_rb_sim_nez1_npz1_dist8_fftmodel.npz', '/Volumes/ADAM LI/pydata/output/frequencyanalysis/varydistance/id001_ac_sim_nez1_npz1_dist1_fftmodel.npz', '/Volumes/ADAM LI/pydata/output/frequencyanalysis/varydistance/id001_ac_sim_nez1_npz1_dist6_fftmodel.npz', '/Volumes/ADAM LI/pydata/output/frequencyanalysis/varydistance/id002_cj_sim_nez1_npz1_dist9_fftmodel.npz']\n"
     ]
    }
   ],
   "source": [
    "datadir = '/Volumes/ADAM LI/pydata/output/frequencyanalysis/'\n",
    "metadatadir = '/Volumes/ADAM LI/pydata/metadata/'    \n",
    "\n",
    "# Get ALL datafiles from all downstream files\n",
    "datafiles = []\n",
    "for root, dirs, files in os.walk(datadir):\n",
    "    for file in files:\n",
    "        if file.endswith(\".npz\"):\n",
    "             datafiles.append(os.path.join(root, file))\n",
    "print(datafiles)"
   ]
  },
  {
   "cell_type": "code",
   "execution_count": 4,
   "metadata": {},
   "outputs": [
    {
     "name": "stdout",
     "output_type": "stream",
     "text": [
      "['id001_ac', 'id002_cj', 'id014_rb']\n"
     ]
    }
   ],
   "source": [
    "'''\n",
    "This code segment should only be ran once, to extract metadata for each patient, \n",
    "so it doesn't need to be done in the loop for FFT compression.\n",
    "\n",
    "EXTRACTS LOCATION DATA FOR EACH PATIENT\n",
    "'''\n",
    "\n",
    "patients = []\n",
    "# get all patients in the dataset\n",
    "for datafile in datafiles:\n",
    "    filename = path_leaf(datafile)\n",
    "    patient = '_'.join(filename.split('_')[0:2])\n",
    "    if patient not in patients:\n",
    "        patients.append(patient)\n",
    "print(patients)\n",
    "\n",
    "patient_dict = {}\n",
    "\n",
    "# get all metadata for each patient\n",
    "for patient in patients:\n",
    "    project_dir = os.path.join(metadatadir, patient)\n",
    "    confile = os.path.join(project_dir, \"connectivity.zip\")\n",
    "\n",
    "    # get the regions, and region_centers from connectivity\n",
    "    reader = util.ZipReader(confile)\n",
    "    region_centers = reader.read_array_from_file(\"centres\", use_cols=(1, 2, 3))\n",
    "    regions = reader.read_array_from_file(\"centres\", dtype=np.str, use_cols=(0,))\n",
    "    \n",
    "    # load in the vertices, normals and areas of gain matrix\n",
    "    use_subcort = True\n",
    "    verts, _, areas, regmap = tvbsim.util.read_surf(project_dir, use_subcort)\n",
    "    \n",
    "    patient_dict['project_dir'] = project_dir\n",
    "    patient_dict['regions'] = regions\n",
    "    patient_dict['region_centers'] = region_centers\n",
    "    patient_dict['surf_data'] = (verts, areas, regmap)"
   ]
  },
  {
   "cell_type": "markdown",
   "metadata": {},
   "source": [
    "# 2. Go Through Each Data File and Create Final Image Dataset\n",
    "\n",
    "- imagedata is freqdata reformatted into images\n",
    "[width, height, numfreqbands, numtimewindows]\n",
    "\n",
    "Use functions to\n",
    "- project 3D -> 2D coordinates\n",
    "- mesh that 2D image with an imagesize and perform cubic interpolation\n",
    "- create image\n",
    "\n",
    "*Need labels [numsamples] that is {0,1} for when onset/offset is*"
   ]
  },
  {
   "cell_type": "code",
   "execution_count": 5,
   "metadata": {
    "collapsed": true
   },
   "outputs": [],
   "source": [
    "sys.path.append('/Users/adam2392/Documents/dnn-unsupervised/dnn/')\n",
    "import processing.util as util\n",
    "\n",
    "from sklearn.decomposition import PCA\n",
    "import matplotlib\n",
    "from matplotlib import *\n",
    "from matplotlib import pyplot as plt\n",
    "import seaborn as sns"
   ]
  },
  {
   "cell_type": "code",
   "execution_count": 6,
   "metadata": {
    "scrolled": false
   },
   "outputs": [
    {
     "name": "stdout",
     "output_type": "stream",
     "text": [
      "(70, 126, 1759)\n",
      "['phase', 'timepoints', 'freqs', 'power', 'metadata']\n",
      "using pca to grid image\n",
      "(1759, 70)\n",
      "Interpolating 1/1759\r",
      "\r",
      "Interpolating 2/1759\r",
      "\r",
      "Interpolating 3/1759\r",
      "\r",
      "Interpolating 4/1759\r",
      "\r",
      "Interpolating 5/1759\r",
      "\r",
      "Interpolating 6/1759\r",
      "\r",
      "Interpolating 7/1759\r",
      "\r",
      "Interpolating 8/1759\r",
      "\r",
      "Interpolating 9/1759\r",
      "\r",
      "Interpolating 10/1759\r",
      "\r",
      "Interpolating 11/1759\r",
      "\r",
      "Interpolating 12/1759\r",
      "\r",
      "Interpolating 13/1759\r",
      "\r",
      "Interpolating 14/1759\r",
      "\r",
      "Interpolating 15/1759\r",
      "\r",
      "Interpolating 16/1759\r",
      "\r",
      "Interpolating 17/1759\r",
      "\r",
      "Interpolating 18/1759\r",
      "\r",
      "Interpolating 19/1759\r",
      "\r",
      "Interpolating 20/1759\r",
      "\r",
      "Interpolating 21/1759\r",
      "\r",
      "Interpolating 22/1759\r",
      "\r",
      "Interpolating 23/1759\r",
      "\r",
      "Interpolating 24/1759\r",
      "\r",
      "Interpolating 25/1759\r",
      "\r",
      "Interpolating 26/1759\r",
      "\r",
      "Interpolating 27/1759\r",
      "\r",
      "Interpolating 28/1759\r",
      "\r",
      "Interpolating 29/1759\r",
      "\r",
      "Interpolating 30/1759\r",
      "\r",
      "Interpolating 31/1759\r",
      "\r",
      "Interpolating 32/1759\r",
      "\r",
      "Interpolating 33/1759\r",
      "\r",
      "Interpolating 34/1759\r",
      "\r",
      "Interpolating 35/1759\r",
      "\r",
      "Interpolating 36/1759\r",
      "\r"
     ]
    },
    {
     "name": "stderr",
     "output_type": "stream",
     "text": [
      "/Users/adam2392/Documents/dnn-unsupervised/dnn/processing/util.py:259: ComplexWarning: Casting complex values to real discards the imaginary part\n",
      "  augData[:, f] = feat + np.random.normal(scale=stdMult*np.std(feat), size=feat.size)\n"
     ]
    },
    {
     "name": "stdout",
     "output_type": "stream",
     "text": [
      "Interpolating 1759/1759nterpolating 117/1759Interpolating 163/1759Interpolating 211/1759Interpolating 259/1759Interpolating 308/1759Interpolating 353/1759Interpolating 402/1759Interpolating 451/1759Interpolating 499/1759Interpolating 546/1759Interpolating 595/1759Interpolating 644/1759Interpolating 692/1759Interpolating 740/1759Interpolating 789/1759Interpolating 837/1759Interpolating 885/1759Interpolating 932/1759Interpolating 980/1759Interpolating 1026/1759Interpolating 1073/1759Interpolating 1121/1759Interpolating 1169/1759Interpolating 1217/1759Interpolating 1264/1759Interpolating 1311/1759Interpolating 1359/1759Interpolating 1407/1759Interpolating 1455/1759Interpolating 1503/1759Interpolating 1550/1759Interpolating 1596/1759Interpolating 1644/1759Interpolating 1692/1759Interpolating 1740/1759(70, 2)\n"
     ]
    },
    {
     "ename": "NameError",
     "evalue": "name 'pca_locs' is not defined",
     "output_type": "error",
     "traceback": [
      "\u001b[0;31m---------------------------------------------------------------------------\u001b[0m",
      "\u001b[0;31mNameError\u001b[0m                                 Traceback (most recent call last)",
      "\u001b[0;32m<ipython-input-6-f2664ca9ef80>\u001b[0m in \u001b[0;36m<module>\u001b[0;34m()\u001b[0m\n\u001b[1;32m     64\u001b[0m \u001b[0;34m\u001b[0m\u001b[0m\n\u001b[1;32m     65\u001b[0m     \u001b[0mprint\u001b[0m\u001b[0;34m(\u001b[0m\u001b[0mnew_locs\u001b[0m\u001b[0;34m.\u001b[0m\u001b[0mshape\u001b[0m\u001b[0;34m)\u001b[0m\u001b[0;34m\u001b[0m\u001b[0m\n\u001b[0;32m---> 66\u001b[0;31m     \u001b[0mprint\u001b[0m\u001b[0;34m(\u001b[0m\u001b[0mpca_locs\u001b[0m\u001b[0;34m.\u001b[0m\u001b[0mshape\u001b[0m\u001b[0;34m)\u001b[0m\u001b[0;34m\u001b[0m\u001b[0m\n\u001b[0m\u001b[1;32m     67\u001b[0m     \u001b[0;32mbreak\u001b[0m\u001b[0;34m\u001b[0m\u001b[0m\n",
      "\u001b[0;31mNameError\u001b[0m: name 'pca_locs' is not defined"
     ]
    }
   ],
   "source": [
    "# define the data handler \n",
    "datahandler = util.DataHandler()\n",
    "pca = PCA(n_components=2)\n",
    "\n",
    "AZIM=0\n",
    "\n",
    "# loop through each data file and get grid\n",
    "for idx,datafile in enumerate(datafiles):\n",
    "    # load data\n",
    "    data = np.load(datafile, encoding='bytes')\n",
    "    metadata = data['metadata'].item()\n",
    "    \n",
    "    power = data['power']\n",
    "    print(power.shape)\n",
    "    print(data.keys())\n",
    "#     print(metadata.keys())\n",
    "    \n",
    "    # load xyz data for this particular dataset\n",
    "    xyz_data = metadata[b'seeg_xyz']\n",
    "    \n",
    "    # project xyz data\n",
    "    if AZIM==1:\n",
    "        print(\"using azim projection to grid image\")\n",
    "        new_locs = []\n",
    "        for ichan in range(0,xyz_data.shape[0]):\n",
    "            new_locs.append(datahandler.azim_proj(xyz_data[ichan,:]))\n",
    "        new_locs = np.asarray(new_locs)\n",
    "    if AZIM==0:\n",
    "        print(\"using pca to grid image\")\n",
    "        new_locs = pca.fit_transform(xyz_data)\n",
    "     \n",
    "    # Tensor of size [samples, freqbands, W, H] containing generated images.\n",
    "    image_tensor = datahandler.gen_images(new_locs, power, \n",
    "                                n_gridpoints=32, normalize=True, augment=True, \n",
    "                                pca=False, std_mult=0.1, edgeless=False)\n",
    "    # create grid for the image\n",
    "    # Interpolate the values into a grid of x/y coords\n",
    "#     grid_x, grid_y = np.mgrid[\n",
    "#                              min(locs[:, 0]):max(locs[:, 0]):n_gridpoints*1j,\n",
    "#                              min(locs[:, 1]):max(locs[:, 1]):n_gridpoints*1j\n",
    "#                          ]\n",
    "    \n",
    "#     # loop through each color\n",
    "#     for c in range(n_colors):\n",
    "#         # build feature array\n",
    "#         feat_array_temp.append(features[:, c * numcontacts : numcontacts * (c+1)])\n",
    "#         if augment: # add data augmentation -> either pca or not\n",
    "#             feat_array_temp[c] = self.augment_EEG(feat_array_temp[c], std_mult, pca=pca, n_components=n_components)\n",
    "\n",
    "#         # build temporary interpolator matrix    \n",
    "#         temp_interp.append(np.zeros([numsamples, n_gridpoints, n_gridpoints]))\n",
    "#     # Generate edgeless images -> add 4 locations (minx,miny),...,(maxx,maxy)\n",
    "#     if edgeless:\n",
    "#         min_x, min_y = np.min(locs, axis=0)\n",
    "#         max_x, max_y = np.max(locs, axis=0)\n",
    "#         locs = np.append(locs, np.array([[min_x, min_y], \n",
    "#                                          [min_x, max_y],\n",
    "#                                          [max_x, min_y],\n",
    "#                                          [max_x, max_y]]), axis=0)\n",
    "#         for c in range(n_colors):\n",
    "#             feat_array_temp[c] = np.append(feat_array_temp[c], np.zeros((numsamples, 4)), axis=1)\n",
    "       \n",
    "\n",
    "\n",
    "    print(new_locs.shape)\n",
    "    break"
   ]
  },
  {
   "cell_type": "code",
   "execution_count": 7,
   "metadata": {},
   "outputs": [
    {
     "name": "stdout",
     "output_type": "stream",
     "text": [
      "(1759, 4, 32, 32)\n"
     ]
    },
    {
     "data": {
      "text/plain": [
       "<matplotlib.axes._subplots.AxesSubplot at 0x108eb2f98>"
      ]
     },
     "execution_count": 7,
     "metadata": {},
     "output_type": "execute_result"
    },
    {
     "data": {
      "image/png": "[encoded data removed]",
      "text/plain": [
       "<matplotlib.figure.Figure at 0x109607278>"
      ]
     },
     "metadata": {},
     "output_type": "display_data"
    }
   ],
   "source": [
    "print(image_tensor.shape)\n",
    "np.save('test_image.npy', image_tensor)\n",
    "sns.heatmap(image_tensor[0,0,:,:].squeeze())"
   ]
  },
  {
   "cell_type": "code",
   "execution_count": 8,
   "metadata": {},
   "outputs": [
    {
     "name": "stdout",
     "output_type": "stream",
     "text": [
      "2.5\n"
     ]
    },
    {
     "data": {
      "image/png": "[encoded data removed]",
      "text/plain": [
       "<matplotlib.figure.Figure at 0x10f3c0320>"
      ]
     },
     "metadata": {},
     "output_type": "display_data"
    },
    {
     "data": {
      "text/plain": [
       "<matplotlib.figure.Figure at 0x10f38dc50>"
      ]
     },
     "metadata": {},
     "output_type": "display_data"
    }
   ],
   "source": [
    "print(5/2)\n",
    "pca_xyz = new_locs\n",
    "fig = plt.figure()\n",
    "plt.plot(pca_xyz[:,0], pca_xyz[:,1], 'k*')\n",
    "\n",
    "fig = plt.figure()\n",
    "# plt.plot(pca_locs[:,0], pca_locs[:,1], 'k*')"
   ]
  },
  {
   "cell_type": "code",
   "execution_count": null,
   "metadata": {
    "collapsed": true
   },
   "outputs": [],
   "source": [
    "# lists to store the list of tuples of seizure onset/offsets\n",
    "seizuremarks = []\n",
    "\n",
    "# list to store the last time point of each recording added in\n",
    "timelens = []\n",
    "\n",
    "for idx,datafile in enumerate(datafiles):\n",
    "    powerbands, timepoints = preprocessor.compresspowermat(datafile)\n",
    "    onsettimes, offsettimes = preprocessor.getseiztimes(datafile)\n",
    "    \n",
    "    metadata = preprocessor.loadmetadata(datafile)\n",
    "    metadata['regions'] = regions\n",
    "    metadata['region_centers'] = region_centers\n",
    "    \n",
    "    # get the last time point\n",
    "    lasttimewin = timepoints[-1,:][1]+1\n",
    "    timelens.append(lasttimewin)\n",
    "    \n",
    "    if idx > 0:\n",
    "        onsettimes = list(np.asarray(onsettimes) + np.sum(timelens[0:idx-1]))\n",
    "        offsettimes = list(np.asarray(offsettimes) + np.sum(timelens[0:idx-1]))\n",
    "    seizuremarks_tuple = list(zip(onsettimes,offsettimes)) \n",
    "    seizuremarks.append(seizuremarks_tuple)\n",
    "#     mapped_power_bands = preprocessor.projectpower_gain(powerbands,\n",
    "#                                                         metadata,\n",
    "#                                                        verts,\n",
    "#                                                        areas,\n",
    "#                                                        regmap)\n",
    "#     print(mapped_power_bands.shape)\n",
    "#     mapped_power_bands = preprocessor.projectpower_knn(powerbands,\n",
    "#                                                         metadata)\n",
    "#     print(mapped_power_bands.shape)\n",
    "    mapped_power_bands = preprocessor.projectpower_invsquare(powerbands,\n",
    "                                                        metadata)\n",
    "#     print(onsettimes, offsettimes)\n",
    "#     print(powerbands.keys())\n",
    "#     print(powerbands[list(powerbands.keys())[0]].shape)\n",
    "#     print(mapped_power_bands.shape)\n",
    "\n",
    "    if idx == 0:\n",
    "        condensed_power = mapped_power_bands\n",
    "    else:\n",
    "        condensed_power = np.concatenate((condensed_power, mapped_power_bands), axis=0)\n",
    "\n",
    "print(condensed_power.shape)\n",
    "print(seizuremarks)\n",
    "print(timelens)"
   ]
  }
 ],
 "metadata": {
  "kernelspec": {
   "display_name": "dnn",
   "language": "python",
   "name": "dnn"
  },
  "language_info": {
   "codemirror_mode": {
    "name": "ipython",
    "version": 3
   },
   "file_extension": ".py",
   "mimetype": "text/x-python",
   "name": "python",
   "nbconvert_exporter": "python",
   "pygments_lexer": "ipython3",
   "version": "3.6.3"
  }
 },
 "nbformat": 4,
 "nbformat_minor": 2
}
