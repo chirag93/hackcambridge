{
 "cells": [
  {
   "cell_type": "code",
   "execution_count": 1,
   "metadata": {},
   "outputs": [
    {
     "name": "stderr",
     "output_type": "stream",
     "text": [
      "/Users/adam2392/Documents/dnn-unsupervised/.venv/lib/python3.6/site-packages/sklearn/cross_validation.py:41: DeprecationWarning: This module was deprecated in version 0.18 in favor of the model_selection module into which all the refactored classes and functions are moved. Also note that the interface of the new CV iterators are different from that of this module. This module will be removed in 0.20.\n",
      "  \"This module will be removed in 0.20.\", DeprecationWarning)\n",
      "/Users/adam2392/Documents/dnn-unsupervised/.venv/lib/python3.6/site-packages/ipykernel_launcher.py:37: RuntimeWarning: invalid value encountered in log\n"
     ]
    }
   ],
   "source": [
    "import numpy as np\n",
    "import matplotlib.pyplot as plt\n",
    "import os\n",
    "import csv\n",
    "\n",
    "import processing.util as util\n",
    "from sklearn.model_selection import train_test_split\n",
    "\n",
    "from sklearn import cross_validation\n",
    "from sklearn.linear_model import LogisticRegression\n",
    "from sklearn import svm\n",
    "from sklearn.cross_validation import LeaveOneOut\n",
    "from sklearn.neighbors import KNeighborsClassifier\n",
    "from sklearn.ensemble import RandomForestClassifier\n",
    "from sklearn.svm import SVC\n",
    "from sklearn.discriminant_analysis import LinearDiscriminantAnalysis\n",
    "from sklearn.discriminant_analysis import QuadraticDiscriminantAnalysis\n",
    "\n",
    "from sklearn.model_selection import KFold\n",
    "%matplotlib inline\n",
    "\n",
    "np.random.seed(12345678)  # for reproducibility, set random seed\n",
    "r = 20  # define number of rois\n",
    "N = 100 # number of samples at each iteration\n",
    "p0 = 0.10\n",
    "p1 = 0.15\n",
    "\n",
    "names = [\"Nearest Neighbors\", \"Linear SVM\", \"Random Forest\",\n",
    "         \"Linear Discriminant Analysis\", \"Quadratic Discriminant Analysis\"]\n",
    "\n",
    "\n",
    "# set pipeline to run things using sklearn\n",
    "# pipe = Pipeline(steps=[('logistic', logistic)])\n",
    "\n",
    "classifiers = [\n",
    "#     KNeighborsClassifier(3),\n",
    "    LogisticRegression(C=np.log(-4), penalty='l1'),\n",
    "    SVC(kernel=\"linear\", C=0.5),\n",
    "    RandomForestClassifier(max_depth=5, n_estimators=10, max_features=1),\n",
    "    LinearDiscriminantAnalysis(),\n",
    "    QuadraticDiscriminantAnalysis()]"
   ]
  },
  {
   "cell_type": "code",
   "execution_count": 2,
   "metadata": {
    "collapsed": true
   },
   "outputs": [],
   "source": [
    "# define data filepath to images\n",
    "image_filepath = os.path.join('./traindata/finaltrain/trainimages.npy')\n",
    "images = np.load(image_filepath)\n",
    "\n",
    "# load the ylabeled data\n",
    "ylabel_filepath = os.path.join('./traindata/finaltrain/trainlabels.npy')\n",
    "ylabels = np.load(ylabel_filepath)"
   ]
  },
  {
   "cell_type": "code",
   "execution_count": 4,
   "metadata": {},
   "outputs": [
    {
     "name": "stdout",
     "output_type": "stream",
     "text": [
      "(66169, 4096)\n",
      "(66169, 4096)\n",
      "(44333, 4096)\n",
      "(44333, 1)\n",
      "(21836, 4096)\n",
      "<class 'numpy.ndarray'>\n"
     ]
    }
   ],
   "source": [
    "images = images.reshape(images.shape[0],-1)\n",
    "print(images.shape)\n",
    "print(images.shape)\n",
    "\n",
    "# split into train,valid,test sets\n",
    "datahandler = util.DataHandler()\n",
    "\n",
    "# format the data correctly \n",
    "# (X_train, y_train), (X_val, y_val), (X_test, y_test) = datahandler.reformatinput(images, labels)\n",
    "X_train, X_test, y_train, y_test = train_test_split(images, ylabels, test_size=0.33, random_state=42)\n",
    "X_train = X_train.astype(\"float32\")\n",
    "X_test = X_test.astype(\"float32\")\n",
    "\n",
    "print(X_train.shape)\n",
    "print(y_train.shape)\n",
    "print(X_test.shape)\n",
    "print(type(X_train))\n",
    "# print(X_val.shape)"
   ]
  },
  {
   "cell_type": "code",
   "execution_count": null,
   "metadata": {},
   "outputs": [
    {
     "name": "stdout",
     "output_type": "stream",
     "text": [
      "Accuracy of Nearest Neighbors: 0.70 (+/- 0.12)\n"
     ]
    }
   ],
   "source": [
    "accuracy = np.zeros((len(classifiers),2), dtype=np.dtype('float64'))\n",
    "\n",
    "kf = KFold(n_splits=3)\n",
    "ylabels = ylabels.ravel()\n",
    "for idx2, cla in enumerate(classifiers):\n",
    "    X_train, X_test, y_train, y_test = cross_validation.train_test_split(images, ylabels, test_size=0.4, random_state=0)\n",
    "    clf = cla.fit(X_train, y_train)\n",
    "    \n",
    "    filename = 'finalized_model_'+str(idx2)+'.sav'\n",
    "    pickle.dump(model, open(filename, 'wb'))\n",
    " \n",
    "\n",
    "    loo = LeaveOneOut(len(images))\n",
    "    \n",
    "    loo = cross_validation.KFold(n=len(images), n_folds=10, shuffle=False, random_state=None)\n",
    "    scores = cross_validation.cross_val_score(clf, images, ylabels, cv=loo)\n",
    "    accuracy[idx2,:] = [scores.mean(), scores.std()]\n",
    "    print(\"Accuracy of %s: %0.2f (+/- %0.2f)\" % (names[idx2], scores.mean(), scores.std() * 2))\n",
    "print(accuracy)"
   ]
  },
  {
   "cell_type": "code",
   "execution_count": 5,
   "metadata": {
    "collapsed": true
   },
   "outputs": [],
   "source": [
    "# filename = 'finalized_model_'+str(idx)+'.sav'\n",
    "import pickle\n",
    "model = 'test'\n",
    "filename='test.sav'\n",
    "pickle.dump(model, open(filename, 'wb'))\n",
    " "
   ]
  },
  {
   "cell_type": "code",
   "execution_count": null,
   "metadata": {
    "collapsed": true
   },
   "outputs": [],
   "source": []
  }
 ],
 "metadata": {
  "kernelspec": {
   "display_name": "dnn",
   "language": "python",
   "name": "dnn"
  },
  "language_info": {
   "codemirror_mode": {
    "name": "ipython",
    "version": 3
   },
   "file_extension": ".py",
   "mimetype": "text/x-python",
   "name": "python",
   "nbconvert_exporter": "python",
   "pygments_lexer": "ipython3",
   "version": "3.6.3"
  }
 },
 "nbformat": 4,
 "nbformat_minor": 2
}
