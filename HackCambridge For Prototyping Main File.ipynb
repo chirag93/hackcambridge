{
 "cells": [
  {
   "cell_type": "code",
   "execution_count": 67,
   "metadata": {},
   "outputs": [
    {
     "name": "stdout",
     "output_type": "stream",
     "text": [
      "The autoreload extension is already loaded. To reload it, use:\n",
      "  %reload_ext autoreload\n"
     ]
    },
    {
     "name": "stderr",
     "output_type": "stream",
     "text": [
      "/Users/adam2392/Documents/dnn-unsupervised/.venv/lib/python3.6/site-packages/h5py/__init__.py:36: FutureWarning: Conversion of the second argument of issubdtype from `float` to `np.floating` is deprecated. In future, it will be treated as `np.float64 == np.dtype(float).type`.\n",
      "  from ._conv import register_converters as _register_converters\n"
     ]
    }
   ],
   "source": [
    "import model.ieeg_cnn_rnn\n",
    "import model.train\n",
    "\n",
    "import processing.util as util\n",
    "import keras\n",
    "\n",
    "import os\n",
    "import numpy as np\n",
    "from sklearn.model_selection import train_test_split\n",
    "\n",
    "\n",
    "from keras.callbacks import ModelCheckpoint\n",
    "from sklearn.preprocessing import scale\n",
    "import h5py\n",
    "%load_ext autoreload\n",
    "%autoreload 2"
   ]
  },
  {
   "cell_type": "markdown",
   "metadata": {},
   "source": [
    "# 1. Initialize the Model (CNN and CNN+LSTM)"
   ]
  },
  {
   "cell_type": "code",
   "execution_count": 46,
   "metadata": {
    "collapsed": true
   },
   "outputs": [],
   "source": [
    "imsize=32\n",
    "numfreqs = 4\n",
    "ieegdnn = model.ieeg_cnn_rnn.IEEGdnn(imsize=imsize, n_colors=numfreqs)"
   ]
  },
  {
   "cell_type": "code",
   "execution_count": 48,
   "metadata": {
    "scrolled": false
   },
   "outputs": [
    {
     "name": "stdout",
     "output_type": "stream",
     "text": [
      "Tensor(\"max_pooling2d_12/MaxPool:0\", shape=(?, 1, 1, 128), dtype=float32)\n",
      "_________________________________________________________________\n",
      "Layer (type)                 Output Shape              Param #   \n",
      "=================================================================\n",
      "input_4 (InputLayer)         (None, 32, 32, 4)         0         \n",
      "_________________________________________________________________\n",
      "conv2d_22 (Conv2D)           (None, 30, 30, 32)        1184      \n",
      "_________________________________________________________________\n",
      "conv2d_23 (Conv2D)           (None, 28, 28, 32)        9248      \n",
      "_________________________________________________________________\n",
      "conv2d_24 (Conv2D)           (None, 26, 26, 32)        9248      \n",
      "_________________________________________________________________\n",
      "conv2d_25 (Conv2D)           (None, 24, 24, 32)        9248      \n",
      "_________________________________________________________________\n",
      "max_pooling2d_10 (MaxPooling (None, 12, 12, 32)        0         \n",
      "_________________________________________________________________\n",
      "conv2d_26 (Conv2D)           (None, 10, 10, 64)        18496     \n",
      "_________________________________________________________________\n",
      "conv2d_27 (Conv2D)           (None, 8, 8, 64)          36928     \n",
      "_________________________________________________________________\n",
      "max_pooling2d_11 (MaxPooling (None, 4, 4, 64)          0         \n",
      "_________________________________________________________________\n",
      "conv2d_28 (Conv2D)           (None, 2, 2, 128)         73856     \n",
      "_________________________________________________________________\n",
      "max_pooling2d_12 (MaxPooling (None, 1, 1, 128)         0         \n",
      "_________________________________________________________________\n",
      "flatten_1 (Flatten)          (None, 128)               0         \n",
      "_________________________________________________________________\n",
      "dense_5 (Dense)              (None, 1024)              132096    \n",
      "_________________________________________________________________\n",
      "dense_6 (Dense)              (None, 2)                 2050      \n",
      "=================================================================\n",
      "Total params: 292,354\n",
      "Trainable params: 292,354\n",
      "Non-trainable params: 0\n",
      "_________________________________________________________________\n",
      "None\n"
     ]
    }
   ],
   "source": [
    "w_init = None\n",
    "n_layers = (4,2,1)\n",
    "poolsize = (2,2)\n",
    "filtersize = (3,3)\n",
    "\n",
    "size_fc = 1024\n",
    "DROPOUT = False #True\n",
    "\n",
    "# VGG-12 style later\n",
    "vggcnn = ieegdnn._build_2dcnn(w_init=w_init, n_layers=n_layers, \n",
    "                              poolsize=poolsize, filter_size=filtersize)\n",
    "print(vggcnn.output)\n",
    "vggcnn = ieegdnn._build_seq_output(vggcnn, size_fc, DROPOUT)\n",
    "print(vggcnn.summary())"
   ]
  },
  {
   "cell_type": "code",
   "execution_count": 17,
   "metadata": {},
   "outputs": [
    {
     "name": "stderr",
     "output_type": "stream",
     "text": [
      "/Users/adam2392/Documents/dnn-unsupervised/dnn/model/ieeg_cnn_rnn.py:189: UserWarning: The `Merge` layer is deprecated and will be removed after 08/2017. Use instead layers from `keras.layers.merge`, e.g. `add`, `concatenate`, etc.\n",
      "  model.add(Merge(convnets, mode='concat'))\n"
     ]
    },
    {
     "name": "stdout",
     "output_type": "stream",
     "text": [
      "<bound method Tensor.get_shape of <tf.Tensor 'dense_17/truediv:0' shape=(?, 5, 2) dtype=float32>>\n"
     ]
    }
   ],
   "source": [
    "# load in CNN/LSTM\n",
    "num_timewins = 5\n",
    "size_mem = 128\n",
    "size_fc = 1024\n",
    "DROPOUT = False\n",
    "cnn_lstm = ieegdnn.build_cnn_lstm(num_timewins=num_timewins, \n",
    "                                  size_mem=size_mem, size_fc=size_fc, DROPOUT=DROPOUT)\n",
    "\n",
    "print(cnn_lstm.get_shape)"
   ]
  },
  {
   "cell_type": "markdown",
   "metadata": {},
   "source": [
    "# 2. Load Image Data"
   ]
  },
  {
   "cell_type": "code",
   "execution_count": 49,
   "metadata": {},
   "outputs": [
    {
     "name": "stdout",
     "output_type": "stream",
     "text": [
      "(66169, 1)\n",
      "(66169, 4, 32, 32)\n"
     ]
    }
   ],
   "source": [
    "# define data filepath to images\n",
    "image_filepath = os.path.join('./traindata/finaltrain/trainimages.npy')\n",
    "images = np.load(image_filepath)\n",
    "\n",
    "# load the ylabeled data\n",
    "ylabel_filepath = os.path.join('./traindata/finaltrain/trainlabels.npy')\n",
    "ylabels = np.load(ylabel_filepath)\n",
    "\n",
    "print(ylabels.shape)\n",
    "print(images.shape)"
   ]
  },
  {
   "cell_type": "code",
   "execution_count": 74,
   "metadata": {},
   "outputs": [
    {
     "name": "stdout",
     "output_type": "stream",
     "text": [
      "(66169, 4096)\n"
     ]
    }
   ],
   "source": [
    "images = images.swapaxes(1,3)\n",
    "print(images.shape)"
   ]
  },
  {
   "cell_type": "code",
   "execution_count": 75,
   "metadata": {},
   "outputs": [
    {
     "name": "stdout",
     "output_type": "stream",
     "text": [
      "(66169, 2)\n"
     ]
    }
   ],
   "source": [
    "invert_y = 1 - ylabels\n",
    "\n",
    "ylabels = np.concatenate((ylabels, invert_y),axis=1)\n",
    "print(ylabels.shape)"
   ]
  },
  {
   "cell_type": "code",
   "execution_count": 76,
   "metadata": {},
   "outputs": [
    {
     "name": "stdout",
     "output_type": "stream",
     "text": [
      "(44333, 4096)\n",
      "(44333, 2)\n",
      "(21836, 4096)\n",
      "<class 'numpy.ndarray'>\n"
     ]
    },
    {
     "ename": "IndexError",
     "evalue": "too many indices for array",
     "output_type": "error",
     "traceback": [
      "\u001b[0;31m---------------------------------------------------------------------------\u001b[0m",
      "\u001b[0;31mIndexError\u001b[0m                                Traceback (most recent call last)",
      "\u001b[0;32m<ipython-input-76-200b6eb81eae>\u001b[0m in \u001b[0;36m<module>\u001b[0;34m()\u001b[0m\n\u001b[1;32m     12\u001b[0m \u001b[0mprint\u001b[0m\u001b[0;34m(\u001b[0m\u001b[0mX_test\u001b[0m\u001b[0;34m.\u001b[0m\u001b[0mshape\u001b[0m\u001b[0;34m)\u001b[0m\u001b[0;34m\u001b[0m\u001b[0m\n\u001b[1;32m     13\u001b[0m \u001b[0mprint\u001b[0m\u001b[0;34m(\u001b[0m\u001b[0mtype\u001b[0m\u001b[0;34m(\u001b[0m\u001b[0mX_train\u001b[0m\u001b[0;34m)\u001b[0m\u001b[0;34m)\u001b[0m\u001b[0;34m\u001b[0m\u001b[0m\n\u001b[0;32m---> 14\u001b[0;31m \u001b[0mprint\u001b[0m\u001b[0;34m(\u001b[0m\u001b[0mtype\u001b[0m\u001b[0;34m(\u001b[0m\u001b[0mX_train\u001b[0m\u001b[0;34m[\u001b[0m\u001b[0;36m0\u001b[0m\u001b[0;34m,\u001b[0m\u001b[0;36m0\u001b[0m\u001b[0;34m,\u001b[0m\u001b[0;36m0\u001b[0m\u001b[0;34m,\u001b[0m\u001b[0;36m0\u001b[0m\u001b[0;34m]\u001b[0m\u001b[0;34m)\u001b[0m\u001b[0;34m)\u001b[0m\u001b[0;34m\u001b[0m\u001b[0m\n\u001b[0m\u001b[1;32m     15\u001b[0m \u001b[0;31m# print(X_val.shape)\u001b[0m\u001b[0;34m\u001b[0m\u001b[0;34m\u001b[0m\u001b[0m\n",
      "\u001b[0;31mIndexError\u001b[0m: too many indices for array"
     ]
    }
   ],
   "source": [
    "# split into train,valid,test sets\n",
    "datahandler = util.DataHandler()\n",
    "\n",
    "# format the data correctly \n",
    "# (X_train, y_train), (X_val, y_val), (X_test, y_test) = datahandler.reformatinput(images, labels)\n",
    "X_train, X_test, y_train, y_test = train_test_split(images, ylabels, test_size=0.33, random_state=42)\n",
    "X_train = X_train.astype(\"float32\")\n",
    "X_test = X_test.astype(\"float32\")\n",
    "\n",
    "print(X_train.shape)\n",
    "print(y_train.shape)\n",
    "print(X_test.shape)\n",
    "print(type(X_train))\n",
    "print(type(X_train[0,0,0,0]))\n",
    "# print(X_val.shape)"
   ]
  },
  {
   "cell_type": "markdown",
   "metadata": {},
   "source": [
    "# 3. Train CNN"
   ]
  },
  {
   "cell_type": "code",
   "execution_count": 53,
   "metadata": {
    "collapsed": true
   },
   "outputs": [],
   "source": [
    "loss = 'binary_crossentropy'\n",
    "optimizer = keras.optimizers.Adam(lr=0.001, \n",
    "                                        beta_1=0.9, \n",
    "                                        beta_2=0.999,\n",
    "                                        epsilon=1e-08,\n",
    "                                        decay=0.0)\n",
    "metrics = ['accuracy']\n",
    "vggcnn.compile(loss=loss, optimizer=optimizer, metrics=metrics)\n",
    "cnn_config = ieegdnn.compile_model(vggcnn, loss=loss, optimizer=optimizer, metrics=metrics)"
   ]
  },
  {
   "cell_type": "code",
   "execution_count": 21,
   "metadata": {
    "collapsed": true
   },
   "outputs": [
    {
     "data": {
      "text/plain": [
       "[{'class_name': 'InputLayer',\n",
       "  'config': {'batch_input_shape': (None, 32, 32, 4),\n",
       "   'dtype': 'float32',\n",
       "   'name': 'input_6',\n",
       "   'sparse': False}},\n",
       " {'class_name': 'Conv2D',\n",
       "  'config': {'activation': 'relu',\n",
       "   'activity_regularizer': None,\n",
       "   'batch_input_shape': (None, 32, 32, 4),\n",
       "   'bias_constraint': None,\n",
       "   'bias_initializer': {'class_name': 'Zeros', 'config': {}},\n",
       "   'bias_regularizer': None,\n",
       "   'data_format': 'channels_last',\n",
       "   'dilation_rate': (1, 1),\n",
       "   'dtype': 'float32',\n",
       "   'filters': 32,\n",
       "   'kernel_constraint': None,\n",
       "   'kernel_initializer': {'class_name': 'VarianceScaling',\n",
       "    'config': {'distribution': 'uniform',\n",
       "     'mode': 'fan_avg',\n",
       "     'scale': 1.0,\n",
       "     'seed': None}},\n",
       "   'kernel_regularizer': None,\n",
       "   'kernel_size': (3, 3),\n",
       "   'name': 'conv2d_36',\n",
       "   'padding': 'valid',\n",
       "   'strides': (1, 1),\n",
       "   'trainable': True,\n",
       "   'use_bias': True}},\n",
       " {'class_name': 'Conv2D',\n",
       "  'config': {'activation': 'relu',\n",
       "   'activity_regularizer': None,\n",
       "   'batch_input_shape': (None, 32, 32, 4),\n",
       "   'bias_constraint': None,\n",
       "   'bias_initializer': {'class_name': 'Zeros', 'config': {}},\n",
       "   'bias_regularizer': None,\n",
       "   'data_format': 'channels_last',\n",
       "   'dilation_rate': (1, 1),\n",
       "   'dtype': 'float32',\n",
       "   'filters': 32,\n",
       "   'kernel_constraint': None,\n",
       "   'kernel_initializer': {'class_name': 'VarianceScaling',\n",
       "    'config': {'distribution': 'uniform',\n",
       "     'mode': 'fan_avg',\n",
       "     'scale': 1.0,\n",
       "     'seed': None}},\n",
       "   'kernel_regularizer': None,\n",
       "   'kernel_size': (3, 3),\n",
       "   'name': 'conv2d_37',\n",
       "   'padding': 'valid',\n",
       "   'strides': (1, 1),\n",
       "   'trainable': True,\n",
       "   'use_bias': True}},\n",
       " {'class_name': 'Conv2D',\n",
       "  'config': {'activation': 'relu',\n",
       "   'activity_regularizer': None,\n",
       "   'batch_input_shape': (None, 32, 32, 4),\n",
       "   'bias_constraint': None,\n",
       "   'bias_initializer': {'class_name': 'Zeros', 'config': {}},\n",
       "   'bias_regularizer': None,\n",
       "   'data_format': 'channels_last',\n",
       "   'dilation_rate': (1, 1),\n",
       "   'dtype': 'float32',\n",
       "   'filters': 32,\n",
       "   'kernel_constraint': None,\n",
       "   'kernel_initializer': {'class_name': 'VarianceScaling',\n",
       "    'config': {'distribution': 'uniform',\n",
       "     'mode': 'fan_avg',\n",
       "     'scale': 1.0,\n",
       "     'seed': None}},\n",
       "   'kernel_regularizer': None,\n",
       "   'kernel_size': (3, 3),\n",
       "   'name': 'conv2d_38',\n",
       "   'padding': 'valid',\n",
       "   'strides': (1, 1),\n",
       "   'trainable': True,\n",
       "   'use_bias': True}},\n",
       " {'class_name': 'Conv2D',\n",
       "  'config': {'activation': 'relu',\n",
       "   'activity_regularizer': None,\n",
       "   'batch_input_shape': (None, 32, 32, 4),\n",
       "   'bias_constraint': None,\n",
       "   'bias_initializer': {'class_name': 'Zeros', 'config': {}},\n",
       "   'bias_regularizer': None,\n",
       "   'data_format': 'channels_last',\n",
       "   'dilation_rate': (1, 1),\n",
       "   'dtype': 'float32',\n",
       "   'filters': 32,\n",
       "   'kernel_constraint': None,\n",
       "   'kernel_initializer': {'class_name': 'VarianceScaling',\n",
       "    'config': {'distribution': 'uniform',\n",
       "     'mode': 'fan_avg',\n",
       "     'scale': 1.0,\n",
       "     'seed': None}},\n",
       "   'kernel_regularizer': None,\n",
       "   'kernel_size': (3, 3),\n",
       "   'name': 'conv2d_39',\n",
       "   'padding': 'valid',\n",
       "   'strides': (1, 1),\n",
       "   'trainable': True,\n",
       "   'use_bias': True}},\n",
       " {'class_name': 'MaxPooling2D',\n",
       "  'config': {'data_format': 'channels_last',\n",
       "   'name': 'max_pooling2d_16',\n",
       "   'padding': 'valid',\n",
       "   'pool_size': (2, 2),\n",
       "   'strides': (2, 2),\n",
       "   'trainable': True}},\n",
       " {'class_name': 'Conv2D',\n",
       "  'config': {'activation': 'relu',\n",
       "   'activity_regularizer': None,\n",
       "   'batch_input_shape': (None, 32, 32, 4),\n",
       "   'bias_constraint': None,\n",
       "   'bias_initializer': {'class_name': 'Zeros', 'config': {}},\n",
       "   'bias_regularizer': None,\n",
       "   'data_format': 'channels_last',\n",
       "   'dilation_rate': (1, 1),\n",
       "   'dtype': 'float32',\n",
       "   'filters': 64,\n",
       "   'kernel_constraint': None,\n",
       "   'kernel_initializer': {'class_name': 'VarianceScaling',\n",
       "    'config': {'distribution': 'uniform',\n",
       "     'mode': 'fan_avg',\n",
       "     'scale': 1.0,\n",
       "     'seed': None}},\n",
       "   'kernel_regularizer': None,\n",
       "   'kernel_size': (3, 3),\n",
       "   'name': 'conv2d_40',\n",
       "   'padding': 'valid',\n",
       "   'strides': (1, 1),\n",
       "   'trainable': True,\n",
       "   'use_bias': True}},\n",
       " {'class_name': 'Conv2D',\n",
       "  'config': {'activation': 'relu',\n",
       "   'activity_regularizer': None,\n",
       "   'batch_input_shape': (None, 32, 32, 4),\n",
       "   'bias_constraint': None,\n",
       "   'bias_initializer': {'class_name': 'Zeros', 'config': {}},\n",
       "   'bias_regularizer': None,\n",
       "   'data_format': 'channels_last',\n",
       "   'dilation_rate': (1, 1),\n",
       "   'dtype': 'float32',\n",
       "   'filters': 64,\n",
       "   'kernel_constraint': None,\n",
       "   'kernel_initializer': {'class_name': 'VarianceScaling',\n",
       "    'config': {'distribution': 'uniform',\n",
       "     'mode': 'fan_avg',\n",
       "     'scale': 1.0,\n",
       "     'seed': None}},\n",
       "   'kernel_regularizer': None,\n",
       "   'kernel_size': (3, 3),\n",
       "   'name': 'conv2d_41',\n",
       "   'padding': 'valid',\n",
       "   'strides': (1, 1),\n",
       "   'trainable': True,\n",
       "   'use_bias': True}},\n",
       " {'class_name': 'MaxPooling2D',\n",
       "  'config': {'data_format': 'channels_last',\n",
       "   'name': 'max_pooling2d_17',\n",
       "   'padding': 'valid',\n",
       "   'pool_size': (2, 2),\n",
       "   'strides': (2, 2),\n",
       "   'trainable': True}},\n",
       " {'class_name': 'Conv2D',\n",
       "  'config': {'activation': 'relu',\n",
       "   'activity_regularizer': None,\n",
       "   'batch_input_shape': (None, 32, 32, 4),\n",
       "   'bias_constraint': None,\n",
       "   'bias_initializer': {'class_name': 'Zeros', 'config': {}},\n",
       "   'bias_regularizer': None,\n",
       "   'data_format': 'channels_last',\n",
       "   'dilation_rate': (1, 1),\n",
       "   'dtype': 'float32',\n",
       "   'filters': 128,\n",
       "   'kernel_constraint': None,\n",
       "   'kernel_initializer': {'class_name': 'VarianceScaling',\n",
       "    'config': {'distribution': 'uniform',\n",
       "     'mode': 'fan_avg',\n",
       "     'scale': 1.0,\n",
       "     'seed': None}},\n",
       "   'kernel_regularizer': None,\n",
       "   'kernel_size': (3, 3),\n",
       "   'name': 'conv2d_42',\n",
       "   'padding': 'valid',\n",
       "   'strides': (1, 1),\n",
       "   'trainable': True,\n",
       "   'use_bias': True}},\n",
       " {'class_name': 'MaxPooling2D',\n",
       "  'config': {'data_format': 'channels_last',\n",
       "   'name': 'max_pooling2d_18',\n",
       "   'padding': 'valid',\n",
       "   'pool_size': (2, 2),\n",
       "   'strides': (2, 2),\n",
       "   'trainable': True}},\n",
       " {'class_name': 'Dense',\n",
       "  'config': {'activation': 'relu',\n",
       "   'activity_regularizer': None,\n",
       "   'bias_constraint': None,\n",
       "   'bias_initializer': {'class_name': 'Zeros', 'config': {}},\n",
       "   'bias_regularizer': None,\n",
       "   'kernel_constraint': None,\n",
       "   'kernel_initializer': {'class_name': 'VarianceScaling',\n",
       "    'config': {'distribution': 'uniform',\n",
       "     'mode': 'fan_avg',\n",
       "     'scale': 1.0,\n",
       "     'seed': None}},\n",
       "   'kernel_regularizer': None,\n",
       "   'name': 'dense_11',\n",
       "   'trainable': True,\n",
       "   'units': 1024,\n",
       "   'use_bias': True}},\n",
       " {'class_name': 'Dense',\n",
       "  'config': {'activation': 'softmax',\n",
       "   'activity_regularizer': None,\n",
       "   'bias_constraint': None,\n",
       "   'bias_initializer': {'class_name': 'Zeros', 'config': {}},\n",
       "   'bias_regularizer': None,\n",
       "   'kernel_constraint': None,\n",
       "   'kernel_initializer': {'class_name': 'VarianceScaling',\n",
       "    'config': {'distribution': 'uniform',\n",
       "     'mode': 'fan_avg',\n",
       "     'scale': 1.0,\n",
       "     'seed': None}},\n",
       "   'kernel_regularizer': None,\n",
       "   'name': 'dense_12',\n",
       "   'trainable': True,\n",
       "   'units': 2,\n",
       "   'use_bias': True}}]"
      ]
     },
     "metadata": {},
     "output_type": "display_data"
    }
   ],
   "source": [
    "display(cnn_config)"
   ]
  },
  {
   "cell_type": "code",
   "execution_count": 64,
   "metadata": {},
   "outputs": [],
   "source": [
    "# images = scale(images, axis=0, with_mean=True, with_std=True, copy=True )\n",
    "traindatadir = './_training/'\n",
    "tempdatadir = './_training/'\n",
    "\n",
    "# checkpoint\n",
    "filepath=os.path.join(tempdatadir,\"weights-improvement-{epoch:02d}-{val_acc:.2f}.hdf5\")\n",
    "checkpoint = ModelCheckpoint(filepath, monitor='val_acc', verbose=1, save_best_only=True, mode='max')\n",
    "def poly_decay(epoch):\n",
    "    # initialize the maximum number of epochs, base learning rate,\n",
    "    # and power of the polynomial\n",
    "    maxEpochs = NUM_EPOCHS\n",
    "    baseLR = INIT_LR\n",
    "    power = 1.0\n",
    "    # compute the new learning rate based on polynomial decay\n",
    "    alpha = baseLR * (1 - (epoch / float(maxEpochs))) ** power\n",
    "    # return the new learning rate\n",
    "    return alpha\n",
    "\n",
    "callbacks = [checkpoint, keras.callbacks.LearningRateScheduler(poly_decay)]"
   ]
  },
  {
   "cell_type": "code",
   "execution_count": 71,
   "metadata": {},
   "outputs": [],
   "source": [
    "NUM_EPOCHS = 30\n",
    "batch_size = 32 # or 64... or 24\n",
    "# construct the image generator for data augmentation and construct\n",
    "# the set of callbacks\n",
    "aug = keras.preprocessing.image.ImageDataGenerator(width_shift_range=0.1,\n",
    "    height_shift_range=0.1, horizontal_flip=True,\n",
    "    fill_mode=\"nearest\")\n",
    "# callbacks = [keras.callbacks.LearningRateScheduler(model.train.poly_decay)]\n",
    "INIT_LR = 5e-3\n",
    "G=1"
   ]
  },
  {
   "cell_type": "code",
   "execution_count": 72,
   "metadata": {
    "scrolled": true
   },
   "outputs": [
    {
     "name": "stdout",
     "output_type": "stream",
     "text": [
      "(None, 2)\n",
      "Epoch 1/30\n",
      "Epoch 00001: val_acc did not improve\n",
      " - 243s - loss: 4.7399 - acc: 0.7043 - val_loss: 4.7556 - val_acc: 0.7033\n",
      "Epoch 2/30\n",
      "Epoch 00002: val_acc did not improve\n",
      " - 242s - loss: 4.7432 - acc: 0.7041 - val_loss: 4.7556 - val_acc: 0.7033\n",
      "Epoch 3/30\n",
      "Epoch 00003: val_acc did not improve\n",
      " - 240s - loss: 4.7423 - acc: 0.7042 - val_loss: 4.7556 - val_acc: 0.7033\n",
      "Epoch 4/30\n",
      "Epoch 00004: val_acc did not improve\n",
      " - 233s - loss: 4.7412 - acc: 0.7042 - val_loss: 4.7556 - val_acc: 0.7033\n",
      "Epoch 5/30\n",
      "Epoch 00005: val_acc did not improve\n",
      " - 238s - loss: 4.7370 - acc: 0.7045 - val_loss: 4.7556 - val_acc: 0.7033\n",
      "Epoch 6/30\n",
      "Epoch 00006: val_acc did not improve\n",
      " - 243s - loss: 4.7506 - acc: 0.7036 - val_loss: 4.7556 - val_acc: 0.7033\n",
      "Epoch 7/30\n",
      "Epoch 00007: val_acc did not improve\n",
      " - 240s - loss: 4.7343 - acc: 0.7047 - val_loss: 4.7556 - val_acc: 0.7033\n",
      "Epoch 8/30\n",
      "Epoch 00008: val_acc did not improve\n",
      " - 237s - loss: 4.7457 - acc: 0.7040 - val_loss: 4.7556 - val_acc: 0.7033\n",
      "Epoch 9/30\n",
      "Epoch 00009: val_acc did not improve\n",
      " - 242s - loss: 4.7427 - acc: 0.7041 - val_loss: 4.7556 - val_acc: 0.7033\n",
      "Epoch 10/30\n",
      "Epoch 00010: val_acc did not improve\n",
      " - 235s - loss: 4.7432 - acc: 0.7041 - val_loss: 4.7556 - val_acc: 0.7033\n",
      "Epoch 11/30\n",
      "Epoch 00011: val_acc did not improve\n",
      " - 239s - loss: 4.7374 - acc: 0.7045 - val_loss: 4.7556 - val_acc: 0.7033\n",
      "Epoch 12/30\n",
      "Epoch 00012: val_acc did not improve\n",
      " - 231s - loss: 4.7372 - acc: 0.7045 - val_loss: 4.7556 - val_acc: 0.7033\n",
      "Epoch 13/30\n",
      "Epoch 00013: val_acc did not improve\n",
      " - 241s - loss: 4.7427 - acc: 0.7041 - val_loss: 4.7556 - val_acc: 0.7033\n",
      "Epoch 14/30\n",
      "Epoch 00014: val_acc did not improve\n",
      " - 245s - loss: 4.7396 - acc: 0.7043 - val_loss: 4.7556 - val_acc: 0.7033\n",
      "Epoch 15/30\n",
      "Epoch 00015: val_acc did not improve\n",
      " - 243s - loss: 4.7356 - acc: 0.7046 - val_loss: 4.7556 - val_acc: 0.7033\n",
      "Epoch 16/30\n",
      "Epoch 00016: val_acc did not improve\n",
      " - 226s - loss: 4.7470 - acc: 0.7039 - val_loss: 4.7556 - val_acc: 0.7033\n",
      "Epoch 17/30\n",
      "Epoch 00017: val_acc did not improve\n",
      " - 226s - loss: 4.7430 - acc: 0.7041 - val_loss: 4.7556 - val_acc: 0.7033\n",
      "Epoch 18/30\n",
      "Epoch 00018: val_acc did not improve\n",
      " - 227s - loss: 4.7370 - acc: 0.7045 - val_loss: 4.7556 - val_acc: 0.7033\n",
      "Epoch 19/30\n",
      "Epoch 00019: val_acc did not improve\n",
      " - 219s - loss: 4.7390 - acc: 0.7044 - val_loss: 4.7556 - val_acc: 0.7033\n",
      "Epoch 20/30\n",
      "Epoch 00020: val_acc did not improve\n",
      " - 224s - loss: 4.7500 - acc: 0.7037 - val_loss: 4.7556 - val_acc: 0.7033\n",
      "Epoch 21/30\n",
      "Epoch 00021: val_acc did not improve\n",
      " - 228s - loss: 4.7428 - acc: 0.7041 - val_loss: 4.7556 - val_acc: 0.7033\n",
      "Epoch 22/30\n",
      "Epoch 00022: val_acc did not improve\n",
      " - 210s - loss: 4.7385 - acc: 0.7044 - val_loss: 4.7556 - val_acc: 0.7033\n",
      "Epoch 23/30\n",
      "Epoch 00023: val_acc did not improve\n",
      " - 218s - loss: 4.7318 - acc: 0.7048 - val_loss: 4.7556 - val_acc: 0.7033\n",
      "Epoch 24/30\n",
      "Epoch 00024: val_acc did not improve\n",
      " - 224s - loss: 4.7487 - acc: 0.7038 - val_loss: 4.7556 - val_acc: 0.7033\n",
      "Epoch 25/30\n",
      "Epoch 00025: val_acc did not improve\n",
      " - 223s - loss: 4.7451 - acc: 0.7040 - val_loss: 4.7556 - val_acc: 0.7033\n",
      "Epoch 26/30\n",
      "Epoch 00026: val_acc did not improve\n",
      " - 224s - loss: 4.7419 - acc: 0.7042 - val_loss: 4.7556 - val_acc: 0.7033\n",
      "Epoch 27/30\n",
      "Epoch 00027: val_acc did not improve\n",
      " - 224s - loss: 4.7452 - acc: 0.7040 - val_loss: 4.7556 - val_acc: 0.7033\n",
      "Epoch 28/30\n",
      "Epoch 00028: val_acc did not improve\n",
      " - 224s - loss: 4.7345 - acc: 0.7047 - val_loss: 4.7556 - val_acc: 0.7033\n",
      "Epoch 29/30\n",
      "Epoch 00029: val_acc did not improve\n",
      " - 225s - loss: 4.7504 - acc: 0.7037 - val_loss: 4.7556 - val_acc: 0.7033\n",
      "Epoch 30/30\n",
      "Epoch 00030: val_acc did not improve\n",
      " - 227s - loss: 4.7377 - acc: 0.7045 - val_loss: 4.7556 - val_acc: 0.7033\n"
     ]
    }
   ],
   "source": [
    "print(vggcnn.output_shape)\n",
    "\n",
    "HH = vggcnn.fit_generator(\n",
    "    aug.flow(X_train, y_train, batch_size=batch_size * G), # adds augmentation to data using generator\n",
    "    validation_data=(X_test, y_test),  \n",
    "    steps_per_epoch=len(X_train) // (batch_size * G),    #\n",
    "    epochs=NUM_EPOCHS,\n",
    "    callbacks=callbacks, verbose=2)"
   ]
  },
  {
   "cell_type": "code",
   "execution_count": 77,
   "metadata": {
    "scrolled": true
   },
   "outputs": [
    {
     "name": "stdout",
     "output_type": "stream",
     "text": [
      "{'epochs': 30, 'steps': 1385, 'verbose': 2, 'do_validation': True, 'metrics': ['loss', 'acc', 'val_loss', 'val_acc']}\n",
      "dict_keys(['val_loss', 'val_acc', 'loss', 'acc'])\n"
     ]
    },
    {
     "data": {
      "image/png": "[encoded data removed]",
      "text/plain": [
       "<matplotlib.figure.Figure at 0x116c0f908>"
      ]
     },
     "metadata": {},
     "output_type": "display_data"
    }
   ],
   "source": [
    "import matplotlib.pyplot as plt\n",
    "H = HH.history\n",
    "print(HH.params)\n",
    "print(H.keys())\n",
    "\n",
    "# plot the training loss and accuracy\n",
    "N = np.arange(0, len(H[\"loss\"]))\n",
    "plt.style.use(\"ggplot\")\n",
    "plt.figure()\n",
    "plt.plot(N, H[\"loss\"], label=\"train_loss\")\n",
    "plt.plot(N, H[\"val_loss\"], label=\"test_loss\")\n",
    "plt.plot(N, H[\"acc\"], label=\"train_acc\")\n",
    "plt.plot(N, H[\"val_acc\"], label=\"test_acc\")\n",
    "# plt.title(\"VGG Net on MNIST\")\n",
    "plt.xlabel(\"Epoch #\")\n",
    "plt.ylabel(\"Loss/Accuracy\")\n",
    "plt.legend()\n",
    "plt.show()\n",
    "\n",
    "# print(model.summary())"
   ]
  },
  {
   "cell_type": "markdown",
   "metadata": {},
   "source": [
    "# 4. Use CNN to Train CNN-LSTM"
   ]
  },
  {
   "cell_type": "code",
   "execution_count": null,
   "metadata": {
    "collapsed": true
   },
   "outputs": [],
   "source": []
  }
 ],
 "metadata": {
  "kernelspec": {
   "display_name": "dnn",
   "language": "python",
   "name": "dnn"
  },
  "language_info": {
   "codemirror_mode": {
    "name": "ipython",
    "version": 3
   },
   "file_extension": ".py",
   "mimetype": "text/x-python",
   "name": "python",
   "nbconvert_exporter": "python",
   "pygments_lexer": "ipython3",
   "version": "3.6.3"
  }
 },
 "nbformat": 4,
 "nbformat_minor": 2
}
